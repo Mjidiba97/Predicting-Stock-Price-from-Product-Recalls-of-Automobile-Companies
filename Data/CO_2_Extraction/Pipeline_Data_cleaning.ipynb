{
 "cells": [
  {
   "cell_type": "markdown",
   "metadata": {},
   "source": [
    "## Importing the Data and renaming the Columns"
   ]
  },
  {
   "cell_type": "code",
   "execution_count": 59,
   "metadata": {},
   "outputs": [],
   "source": [
    "import pandas as pd\n",
    "import numpy as np"
   ]
  },
  {
   "cell_type": "code",
   "execution_count": 183,
   "metadata": {},
   "outputs": [],
   "source": [
    "data_2001 = pd.read_excel('./1-fic_etiq_edition_janvier2001.xls')\n",
    "\n",
    "data_2001.columns = ['Marque', 'Modèle dossier','Type Variante Version (TVV)','CNIT', 'Carburant',\n",
    "                     'Puissance administrative','Puissance maximale (kW)', 'Boîte de vitesse', \n",
    "                     'Consommation urbaine (l/100km)', 'Consommation extra-urbaine (l/100km)',\n",
    "                     'Consommation mixte (l/100km)', 'CO2 (g/km)']\n",
    "\n",
    "data_2001['Annee'] = 2001"
   ]
  },
  {
   "cell_type": "code",
   "execution_count": 178,
   "metadata": {},
   "outputs": [],
   "source": [
    "data_2003 = pd.read_excel('./4-fic_etiq_edition_01_maj_MARS2003.xls')\n",
    "\n",
    "\n",
    "data_2003.columns = ['Marque', 'Modèle dossier','CNIT', 'Type Variante Version (TVV)', 'Carburant',\n",
    "                     'Puissance administrative','Puissance maximale (kW)', 'Boîte de vitesse', \n",
    "                     'Consommation urbaine (l/100km)', 'Consommation extra-urbaine (l/100km)',\n",
    "                     'Consommation mixte (l/100km)', 'CO2 (g/km)', 'Date de mise à jour']\n",
    "\n",
    "\n",
    "data_2003['Annee'] = 2003"
   ]
  },
  {
   "cell_type": "code",
   "execution_count": 166,
   "metadata": {},
   "outputs": [],
   "source": [
    "data_2004 = pd.read_excel('./6-fic_etiq_edition_jan_2004.xls')\n",
    "\n",
    "data_2004.drop(['Unnamed: 11'], axis = 1, inplace = True)\n",
    "\n",
    "\n",
    "data_2004.columns = ['Marque', 'Modèle dossier','Modèle UTAC','CNIT', 'Carburant'\n",
    "                     'Puissance administrative','Puissance maximale (kW)', 'Boîte de vitesse', \n",
    "                     'Consommation urbaine (l/100km)', 'Consommation extra-urbaine (l/100km)',\n",
    "                     'Consommation mixte (l/100km)', 'CO2 (g/km)']\n",
    "\n",
    "\n",
    "data_2004['Annee'] = 2004"
   ]
  },
  {
   "cell_type": "code",
   "execution_count": 154,
   "metadata": {},
   "outputs": [],
   "source": [
    "data_2005 = pd.read_excel('./7-fic_etiq_edition_janvier2005.xls')\n",
    "\n",
    "data_2005.drop(['Unnamed: 11','Unnamed: 12','Unnamed: 13','Unnamed: 14', 'nan.1', 'nan.2'], axis = 1, inplace = True)\n",
    "\n",
    "data_2005.columns = ['Marque', 'Modèle dossier','CNIT', \n",
    "                     'Puissance administrative','Puissance maximale (kW)', 'Boîte de vitesse', \n",
    "                     'Consommation urbaine (l/100km)', 'Consommation extra-urbaine (l/100km)',\n",
    "                     'Consommation mixte (l/100km)', 'CO2 (g/km)', 'Carburant', 'To_drop']\n",
    "\n",
    "data_2005.drop(['To_drop'], axis = 1, inplace = True)\n",
    "\n",
    "data_2005['Annee'] = 2005"
   ]
  },
  {
   "cell_type": "code",
   "execution_count": 143,
   "metadata": {},
   "outputs": [],
   "source": [
    "data_2006 = pd.read_excel('./8-fic_etiq_edition_janvier2006.xls', header= None)\n",
    "\n",
    "data_2006.columns = ['Marque', 'Modèle dossier','CNIT', 'Type Variante Version (TVV)',\n",
    "                     'Carburant', 'Puissance administrative','Puissance maximale (kW)',\n",
    "                     'Boîte de vitesse','Consommation urbaine (l/100km)', \n",
    "                     'Consommation extra-urbaine (l/100km)',\n",
    "                     'Consommation mixte (l/100km)', 'CO2 (g/km)', 'Date de mise à jour']\n",
    "\n",
    "data_2006['Annee'] = 2006"
   ]
  },
  {
   "cell_type": "code",
   "execution_count": 205,
   "metadata": {},
   "outputs": [],
   "source": [
    "data_2007 = pd.read_excel('./9-fic_etiq_edition_janvier_2007.xls')\n",
    "\n",
    "data_2007.drop(['ETIQUETTE ENERGIE'], axis = 1, inplace = True)\n",
    "\n",
    "data_2007.columns = ['Marque', 'Modèle dossier','CNIT',\n",
    "                    'Puissance administrative','Puissance maximale (kW)',\n",
    "                     'Boîte de vitesse','Consommation urbaine (l/100km)', \n",
    "                     'Consommation extra-urbaine (l/100km)',\n",
    "                     'Consommation mixte (l/100km)', 'CO2 (g/km)', 'Carburant']\n",
    "\n",
    "\n",
    "\n",
    "data_2007['Annee'] = 2007"
   ]
  },
  {
   "cell_type": "code",
   "execution_count": 124,
   "metadata": {},
   "outputs": [],
   "source": [
    "data_2008 = pd.read_excel('./11-fic_etiq_edition_juillet_2008.xls')\n",
    "\n",
    "data_2008.drop(['TYPE 2', 'BONUS(-)/MALUS( )', 'ETIQUETTE ENERGIE'], axis = 1, inplace = True)\n",
    "\n",
    "data_2008.columns = ['Marque', 'Modèle dossier','CNIT', \n",
    "                     'Puissance administrative','Puissance maximale (kW)', 'Boîte de vitesse', \n",
    "                     'Consommation urbaine (l/100km)', 'Consommation extra-urbaine (l/100km)',\n",
    "                     'Consommation mixte (l/100km)', 'CO2 (g/km)', 'Carburant']\n",
    "\n",
    "data_2008['Annee'] = 2008\n"
   ]
  },
  {
   "cell_type": "code",
   "execution_count": 120,
   "metadata": {},
   "outputs": [],
   "source": [
    "data_2009 = pd.read_excel('./12-fic_etiq_edition_avril_2009.xls')\n",
    "\n",
    "data_2009.drop(['Unnamed: 13', 'Unnamed: 14', 'BONUS(-)/MALUS(+)', 'ETIQUETTE ENERGIE'], axis = 1, inplace = True)\n",
    "\n",
    "data_2009.columns = ['Marque', 'Modèle dossier','CNIT', \n",
    "                     'Puissance administrative','Puissance maximale (kW)', 'Boîte de vitesse', \n",
    "                     'Consommation urbaine (l/100km)', 'Consommation extra-urbaine (l/100km)',\n",
    "                     'Consommation mixte (l/100km)', 'CO2 (g/km)', 'Carburant']\n",
    "\n",
    "data_2009['Annee'] = 2009"
   ]
  },
  {
   "cell_type": "code",
   "execution_count": 117,
   "metadata": {},
   "outputs": [],
   "source": [
    "data_2010 = pd.read_excel(\"./16-fic_etiq_edition_mai_2010.xls\")\n",
    "\n",
    "data_2010.drop(['Unnamed: 13', 'Unnamed: 14', 'BONUS(-)/MALUS(+)', 'ETIQUETTE ENERGIE'], axis = 1, inplace = True)\n",
    "\n",
    "data_2010.columns = ['Marque', 'Modèle dossier','CNIT', \n",
    "                     'Puissance administrative','Puissance maximale (kW)', 'Boîte de vitesse', \n",
    "                     'Consommation urbaine (l/100km)', 'Consommation extra-urbaine (l/100km)',\n",
    "                     'Consommation mixte (l/100km)', 'CO2 (g/km)', 'Carburant']\n",
    "\n",
    "data_2010['Annee'] = 2010"
   ]
  },
  {
   "cell_type": "code",
   "execution_count": 80,
   "metadata": {},
   "outputs": [],
   "source": [
    "data_2011 = pd.read_excel('./BASE CL MAJ JUIN 2011.xls')\n",
    "\n",
    "data_2011.columns = ['Marque', 'Modèle dossier', 'Modèle UTAC', 'Désignation commerciale',\n",
    "       'CNIT', 'Type Variante Version (TVV)', 'Carburant',\n",
    "       'Puissance administrative', 'Puissance maximale (kW)',\n",
    "       'Boîte de vitesse', 'Consommation urbaine (l/100km)',\n",
    "       'Consommation extra-urbaine (l/100km)', 'Consommation mixte (l/100km)',\n",
    "       'CO2 (g/km)', 'Champ V9', 'Date de mise à jour']\n",
    "data_2011['Annee'] = 2011"
   ]
  },
  {
   "cell_type": "code",
   "execution_count": 81,
   "metadata": {},
   "outputs": [],
   "source": [
    "data_2012 = pd.read_csv(\"./BASE CL MAJ JUIN 2012.csv\", error_bad_lines = False, delimiter = ';', encoding = 'unicode_escape')\n",
    "\n",
    "data_2012.columns = ['Marque', 'Modèle dossier', 'Modèle UTAC', 'Désignation commerciale',\n",
    "       'CNIT', 'Type Variante Version (TVV)', 'Carburant', 'Hybride',\n",
    "       'Puissance administrative', 'Puissance maximale (kW)',\n",
    "       'Boîte de vitesse', 'Consommation urbaine (l/100km)',\n",
    "       'Consommation extra-urbaine (l/100km)', 'Consommation mixte (l/100km)',\n",
    "       'CO2 (g/km)', 'CO type I (g/km)', 'HC (g/km)', 'NOX (g/km)',\n",
    "       'HC+NOX (g/km)', 'Particules (g/km)', 'masse vide euro min (kg)',\n",
    "       'masse vide euro max (kg)', 'Champ V9', 'Date de mise à jour',\n",
    "       'Carrosserie', 'gamme']\n",
    "\n",
    "data_2012['Annee'] = 2012"
   ]
  },
  {
   "cell_type": "code",
   "execution_count": 82,
   "metadata": {},
   "outputs": [],
   "source": [
    "data_2013 = pd.read_csv('./cl_JUIN_2013-complet3.csv', error_bad_lines = False, delimiter = ';', encoding = 'unicode_escape')\n",
    "\n",
    "data_2013['Annee'] = 2013"
   ]
  },
  {
   "cell_type": "code",
   "execution_count": 83,
   "metadata": {},
   "outputs": [],
   "source": [
    "data_2014 = pd.read_csv('./mars-2014-complete.csv', error_bad_lines = False, delimiter = ';', encoding = 'unicode_escape')\n",
    "\n",
    "data_2014.drop(['Unnamed: 26', 'Unnamed: 27', 'Unnamed: 28', 'Unnamed: 29'], axis = 1, inplace = True)\n",
    "\n",
    "data_2014.columns = ['Marque', 'Modèle dossier', 'Modèle UTAC', 'Désignation commerciale',\n",
    "       'CNIT', 'Type Variante Version (TVV)', 'Carburant', 'Hybride',\n",
    "       'Puissance administrative', 'Puissance maximale (kW)',\n",
    "       'Boîte de vitesse', 'Consommation urbaine (l/100km)',\n",
    "       'Consommation extra-urbaine (l/100km)', 'Consommation mixte (l/100km)',\n",
    "       'CO2 (g/km)', 'CO type I (g/km)', 'HC (g/km)', 'NOX (g/km)',\n",
    "       'HC+NOX (g/km)', 'Particules (g/km)', 'masse vide euro min (kg)',\n",
    "       'masse vide euro max (kg)', 'Champ V9', 'Date de mise à jour',\n",
    "       'Carrosserie', 'gamme']\n",
    "\n",
    "data_2014['Annee'] = 2014"
   ]
  },
  {
   "cell_type": "code",
   "execution_count": 84,
   "metadata": {},
   "outputs": [],
   "source": [
    "data_2015 = pd.read_csv('./fic_etiq_edition_40-mars-2015.csv', error_bad_lines = False, delimiter = ';', encoding = 'unicode_escape')\n",
    "\n",
    "data_2015.columns = ['Marque', 'Modèle dossier', 'Modèle UTAC', 'Désignation commerciale',\n",
    "       'CNIT', 'Type Variante Version (TVV)', 'Carburant', 'Hybride',\n",
    "       'Puissance administrative', 'Puissance maximale (kW)',\n",
    "       'Boîte de vitesse', 'Consommation urbaine (l/100km)',\n",
    "       'Consommation extra-urbaine (l/100km)', 'Consommation mixte (l/100km)',\n",
    "       'CO2 (g/km)', 'CO type I (g/km)', 'HC (g/km)', 'NOX (g/km)',\n",
    "       'HC+NOX (g/km)', 'Particules (g/km)', 'masse vide euro min (kg)',\n",
    "       'masse vide euro max (kg)', 'Champ V9', 'Date de mise à jour',\n",
    "       'Carrosserie', 'gamme']\n",
    "\n",
    "data_2015['Annee'] = 2015"
   ]
  },
  {
   "cell_type": "markdown",
   "metadata": {},
   "source": [
    "## Aggregating the Data"
   ]
  },
  {
   "cell_type": "code",
   "execution_count": 184,
   "metadata": {},
   "outputs": [
    {
     "data": {
      "text/plain": [
       "(13, 14, 12, 12, 14, 12, 12, 12, 13, 17, 17, 17, 17, 17)"
      ]
     },
     "execution_count": 184,
     "metadata": {},
     "output_type": "execute_result"
    }
   ],
   "source": [
    "len(data_2001.columns), len(data_2003.columns), len(data_2004.columns), len(data_2005.columns), \\\n",
    "len(data_2006.columns), len(data_2007.columns), len(data_2008.columns), len(data_2009.columns), \\\n",
    "len(data_2001.columns), len(data_2011.columns), len(data_2012.columns), len(data_2013.columns), \\\n",
    "len(data_2014.columns), len(data_2015.columns) "
   ]
  },
  {
   "cell_type": "markdown",
   "metadata": {},
   "source": [
    "We should keep only the intersection of the columns which we have in all the data sets."
   ]
  },
  {
   "cell_type": "code",
   "execution_count": 199,
   "metadata": {},
   "outputs": [],
   "source": [
    "columns = list(set(data_2005.columns).intersection(set(data_2003.columns)).intersection(set(data_2004.columns)))"
   ]
  },
  {
   "cell_type": "code",
   "execution_count": 206,
   "metadata": {},
   "outputs": [],
   "source": [
    "data_2001 = data_2001[columns]\n",
    "data_2003 = data_2003[columns]\n",
    "data_2004 = data_2004[columns]\n",
    "data_2005 = data_2005[columns]\n",
    "data_2006 = data_2006[columns]\n",
    "data_2007 = data_2007[columns]\n",
    "data_2008 = data_2008[columns]\n",
    "data_2009 = data_2009[columns]\n",
    "data_2010 = data_2010[columns]\n",
    "data_2011 = data_2011[columns]\n",
    "\n",
    "data_2012 = data_2012[columns]\n",
    "data_2013 = data_2013[columns]\n",
    "data_2014 = data_2014[columns]\n",
    "data_2015 = data_2015[columns]"
   ]
  },
  {
   "cell_type": "code",
   "execution_count": 208,
   "metadata": {},
   "outputs": [
    {
     "data": {
      "text/plain": [
       "(10, 10, 10, 10, 10, 10, 10, 10, 10, 10, 10, 10, 10, 10)"
      ]
     },
     "execution_count": 208,
     "metadata": {},
     "output_type": "execute_result"
    }
   ],
   "source": [
    "len(data_2001.columns), len(data_2003.columns), len(data_2004.columns), len(data_2005.columns), \\\n",
    "len(data_2006.columns), len(data_2007.columns), len(data_2008.columns), len(data_2009.columns), \\\n",
    "len(data_2001.columns), len(data_2011.columns), len(data_2012.columns), len(data_2013.columns), \\\n",
    "len(data_2014.columns), len(data_2015.columns) "
   ]
  },
  {
   "cell_type": "code",
   "execution_count": 209,
   "metadata": {},
   "outputs": [],
   "source": [
    "data = pd.concat([data_2001, data_2003, data_2004, data_2005, data_2006, data_2007, data_2008, data_2009, \n",
    "    data_2010, data_2011, data_2012, data_2013, data_2014, data_2015])"
   ]
  },
  {
   "cell_type": "code",
   "execution_count": 210,
   "metadata": {},
   "outputs": [
    {
     "data": {
      "text/plain": [
       "((277460, 10), (292848, 10))"
      ]
     },
     "execution_count": 210,
     "metadata": {},
     "output_type": "execute_result"
    }
   ],
   "source": [
    "# Check doublons\n",
    "data.drop_duplicates().shape, data.shape"
   ]
  },
  {
   "cell_type": "code",
   "execution_count": 211,
   "metadata": {},
   "outputs": [],
   "source": [
    "# Drop them\n",
    "data.drop_duplicates(inplace=True)"
   ]
  },
  {
   "cell_type": "code",
   "execution_count": 212,
   "metadata": {},
   "outputs": [],
   "source": [
    "data.to_csv('Data_CO2.csv')"
   ]
  },
  {
   "cell_type": "code",
   "execution_count": null,
   "metadata": {},
   "outputs": [],
   "source": []
  }
 ],
 "metadata": {
  "kernelspec": {
   "display_name": "Python 3",
   "language": "python",
   "name": "python3"
  },
  "language_info": {
   "codemirror_mode": {
    "name": "ipython",
    "version": 3
   },
   "file_extension": ".py",
   "mimetype": "text/x-python",
   "name": "python",
   "nbconvert_exporter": "python",
   "pygments_lexer": "ipython3",
   "version": "3.6.9"
  }
 },
 "nbformat": 4,
 "nbformat_minor": 2
}
